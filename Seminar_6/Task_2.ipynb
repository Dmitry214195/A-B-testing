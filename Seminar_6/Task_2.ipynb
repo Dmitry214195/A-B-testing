{
 "cells": [
  {
   "cell_type": "code",
   "execution_count": 21,
   "metadata": {},
   "outputs": [],
   "source": [
    "import math\n",
    "import scipy.stats as stats"
   ]
  },
  {
   "attachments": {},
   "cell_type": "markdown",
   "metadata": {},
   "source": [
    "Определим функцию для расчета необходимого размера выборки:"
   ]
  },
  {
   "cell_type": "code",
   "execution_count": 22,
   "metadata": {},
   "outputs": [],
   "source": [
    "\n",
    "def sample_size(mean1, mean2, alpha, beta, power, baseline):\n",
    "    std1 = math.sqrt(baseline * (1 - baseline))\n",
    "    z_alpha = stats.norm.ppf(1 - alpha / 2)\n",
    "    z_beta = stats.norm.ppf(power)\n",
    "    std2 = std1 * math.sqrt((baseline - mean2) ** 2 / (mean1 - mean2) ** 2)\n",
    "    return ((std1 * z_alpha + std2 * z_beta) / (mean1 - mean2)) ** 2"
   ]
  },
  {
   "attachments": {},
   "cell_type": "markdown",
   "metadata": {},
   "source": [
    "\n",
    "Где:\n",
    "\n",
    "mean1 - текущее значение bounce rate (40%)\n",
    "\n",
    "mean2 - ожидаемое изменение bounce rate после оптимизации сайта (-20%)\n",
    "\n",
    "alpha - уровень значимости (0.05)\n",
    "\n",
    "beta - мощность теста (0.2)\n",
    "\n",
    "baseline - текущее значение bounce rate (40%)\n",
    "\n",
    "Теперь вызовем функцию c округлением до целого числа и получим результат:"
   ]
  },
  {
   "cell_type": "code",
   "execution_count": 23,
   "metadata": {},
   "outputs": [
    {
     "data": {
      "text/plain": [
       "5"
      ]
     },
     "execution_count": 23,
     "metadata": {},
     "output_type": "execute_result"
    }
   ],
   "source": [
    "\n",
    "round(sample_size(mean1=0.4, mean2=-0.2, alpha=0.05, beta=0.2, power=0.8, \n",
    "                  baseline=0.4))"
   ]
  },
  {
   "attachments": {},
   "cell_type": "markdown",
   "metadata": {},
   "source": [
    "Ответ: 5 дней нам нужно держать эксперимент при alpha = 5% и beta = 20%"
   ]
  }
 ],
 "metadata": {
  "kernelspec": {
   "display_name": "Python 3",
   "language": "python",
   "name": "python3"
  },
  "language_info": {
   "codemirror_mode": {
    "name": "ipython",
    "version": 3
   },
   "file_extension": ".py",
   "mimetype": "text/x-python",
   "name": "python",
   "nbconvert_exporter": "python",
   "pygments_lexer": "ipython3",
   "version": "3.10.11"
  },
  "orig_nbformat": 4
 },
 "nbformat": 4,
 "nbformat_minor": 2
}
